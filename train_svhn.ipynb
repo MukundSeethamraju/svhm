{
 "cells": [
  {
   "cell_type": "code",
   "execution_count": 1,
   "metadata": {},
   "outputs": [],
   "source": [
    "import os\n",
    "import h5py\n",
    "import pandas as pd\n",
    "import numpy as np"
   ]
  },
  {
   "cell_type": "markdown",
   "metadata": {},
   "source": [
    "process mat file.\n",
    "save the data to a tfrecord.\n",
    "add parse function\n",
    "load data.\n",
    "add preprocessing.\n",
    "add model\n",
    "add loss function.\n",
    "add metrics.\n",
    "train model."
   ]
  },
  {
   "cell_type": "code",
   "execution_count": 2,
   "metadata": {},
   "outputs": [
    {
     "name": "stdout",
     "output_type": "stream",
     "text": [
      "WARNING:tensorflow:AutoGraph could not transform <bound method TfRecordDataset._parse_tfrecord_fn of <data_loader.TfRecordDataset object at 0x7fbeb7a05c10>> and will run it as-is.\n",
      "Please report this to the TensorFlow team. When filing the bug, set the verbosity to 10 (on Linux, `export AUTOGRAPH_VERBOSITY=10`) and attach the full output.\n",
      "Cause: invalid syntax (<unknown>, line 1)\n",
      "To silence this warning, decorate the function with @tf.autograph.experimental.do_not_convert\n",
      "WARNING: AutoGraph could not transform <bound method TfRecordDataset._parse_tfrecord_fn of <data_loader.TfRecordDataset object at 0x7fbeb7a05c10>> and will run it as-is.\n",
      "Please report this to the TensorFlow team. When filing the bug, set the verbosity to 10 (on Linux, `export AUTOGRAPH_VERBOSITY=10`) and attach the full output.\n",
      "Cause: invalid syntax (<unknown>, line 1)\n",
      "To silence this warning, decorate the function with @tf.autograph.experimental.do_not_convert\n",
      "WARNING:tensorflow:AutoGraph could not transform <function TfRecordDataset.get_dataset.<locals>.<lambda> at 0x7fbea6b99430> and will run it as-is.\n",
      "Cause: could not parse the source code of <function TfRecordDataset.get_dataset.<locals>.<lambda> at 0x7fbea6b99430>: no matching AST found\n",
      "To silence this warning, decorate the function with @tf.autograph.experimental.do_not_convert\n",
      "WARNING: AutoGraph could not transform <function TfRecordDataset.get_dataset.<locals>.<lambda> at 0x7fbea6b99430> and will run it as-is.\n",
      "Cause: could not parse the source code of <function TfRecordDataset.get_dataset.<locals>.<lambda> at 0x7fbea6b99430>: no matching AST found\n",
      "To silence this warning, decorate the function with @tf.autograph.experimental.do_not_convert\n",
      "WARNING:tensorflow:AutoGraph could not transform <function TfRecordDataset.get_dataset.<locals>.<lambda> at 0x7fbea6b99a60> and will run it as-is.\n",
      "Cause: could not parse the source code of <function TfRecordDataset.get_dataset.<locals>.<lambda> at 0x7fbea6b99a60>: no matching AST found\n",
      "To silence this warning, decorate the function with @tf.autograph.experimental.do_not_convert\n",
      "WARNING: AutoGraph could not transform <function TfRecordDataset.get_dataset.<locals>.<lambda> at 0x7fbea6b99a60> and will run it as-is.\n",
      "Cause: could not parse the source code of <function TfRecordDataset.get_dataset.<locals>.<lambda> at 0x7fbea6b99a60>: no matching AST found\n",
      "To silence this warning, decorate the function with @tf.autograph.experimental.do_not_convert\n"
     ]
    },
    {
     "name": "stderr",
     "output_type": "stream",
     "text": [
      "2022-06-10 14:20:34.695161: I tensorflow/compiler/mlir/mlir_graph_optimization_pass.cc:176] None of the MLIR Optimization Passes are enabled (registered 2)\n"
     ]
    },
    {
     "name": "stdout",
     "output_type": "stream",
     "text": [
      "Epoch 1/20\n",
      "131/131 [==============================] - 214s 2s/step - loss: 6.5369 - output_1_loss: 2.2277 - output_2_loss: 2.4681 - output_3_loss: 1.4181 - output_4_loss: 0.3931 - output_5_loss: 0.0299 - output_1_accuracy: 0.2566 - output_2_accuracy: 0.1856 - output_3_accuracy: 0.6814 - output_4_accuracy: 0.9494 - output_5_accuracy: 0.9940 - val_loss: 5.5368 - val_output_1_loss: 2.0561 - val_output_2_loss: 2.4453 - val_output_3_loss: 0.8670 - val_output_4_loss: 0.1612 - val_output_5_loss: 0.0071 - val_output_1_accuracy: 0.2035 - val_output_2_accuracy: 0.1900 - val_output_3_accuracy: 0.8294 - val_output_4_accuracy: 0.9887 - val_output_5_accuracy: 0.9998\n",
      "Epoch 2/20\n",
      "131/131 [==============================] - 229s 2s/step - loss: 5.2135 - output_1_loss: 1.7762 - output_2_loss: 2.0556 - output_3_loss: 1.1311 - output_4_loss: 0.2448 - output_5_loss: 0.0059 - output_1_accuracy: 0.3884 - output_2_accuracy: 0.2994 - output_3_accuracy: 0.6981 - output_4_accuracy: 0.9568 - output_5_accuracy: 0.9997 - val_loss: 5.5141 - val_output_1_loss: 2.1159 - val_output_2_loss: 2.4673 - val_output_3_loss: 0.8347 - val_output_4_loss: 0.0931 - val_output_5_loss: 0.0032 - val_output_1_accuracy: 0.2234 - val_output_2_accuracy: 0.1911 - val_output_3_accuracy: 0.8294 - val_output_4_accuracy: 0.9887 - val_output_5_accuracy: 0.9998\n",
      "Epoch 3/20\n",
      "131/131 [==============================] - 235s 2s/step - loss: 4.3664 - output_1_loss: 1.4264 - output_2_loss: 1.7243 - output_3_loss: 0.9964 - output_4_loss: 0.2146 - output_5_loss: 0.0047 - output_1_accuracy: 0.5254 - output_2_accuracy: 0.4226 - output_3_accuracy: 0.7134 - output_4_accuracy: 0.9568 - output_5_accuracy: 0.9997 - val_loss: 5.4615 - val_output_1_loss: 1.9746 - val_output_2_loss: 2.5686 - val_output_3_loss: 0.8314 - val_output_4_loss: 0.0851 - val_output_5_loss: 0.0019 - val_output_1_accuracy: 0.2729 - val_output_2_accuracy: 0.1961 - val_output_3_accuracy: 0.8294 - val_output_4_accuracy: 0.9887 - val_output_5_accuracy: 0.9998\n",
      "Epoch 4/20\n",
      "131/131 [==============================] - 232s 2s/step - loss: 3.7627 - output_1_loss: 1.1660 - output_2_loss: 1.5050 - output_3_loss: 0.8909 - output_4_loss: 0.1964 - output_5_loss: 0.0043 - output_1_accuracy: 0.6147 - output_2_accuracy: 0.4991 - output_3_accuracy: 0.7361 - output_4_accuracy: 0.9578 - output_5_accuracy: 0.9997 - val_loss: 4.6214 - val_output_1_loss: 1.6659 - val_output_2_loss: 2.1071 - val_output_3_loss: 0.7651 - val_output_4_loss: 0.0813 - val_output_5_loss: 0.0020 - val_output_1_accuracy: 0.4469 - val_output_2_accuracy: 0.2802 - val_output_3_accuracy: 0.8307 - val_output_4_accuracy: 0.9887 - val_output_5_accuracy: 0.9998\n",
      "Epoch 5/20\n",
      "131/131 [==============================] - 235s 2s/step - loss: 3.3762 - output_1_loss: 1.0162 - output_2_loss: 1.3580 - output_3_loss: 0.8158 - output_4_loss: 0.1820 - output_5_loss: 0.0042 - output_1_accuracy: 0.6678 - output_2_accuracy: 0.5536 - output_3_accuracy: 0.7526 - output_4_accuracy: 0.9585 - output_5_accuracy: 0.9997 - val_loss: 4.3287 - val_output_1_loss: 1.5328 - val_output_2_loss: 1.9777 - val_output_3_loss: 0.7380 - val_output_4_loss: 0.0783 - val_output_5_loss: 0.0019 - val_output_1_accuracy: 0.5041 - val_output_2_accuracy: 0.3359 - val_output_3_accuracy: 0.8340 - val_output_4_accuracy: 0.9887 - val_output_5_accuracy: 0.9998\n",
      "Epoch 6/20\n",
      "131/131 [==============================] - 237s 2s/step - loss: 3.1049 - output_1_loss: 0.9209 - output_2_loss: 1.2467 - output_3_loss: 0.7633 - output_4_loss: 0.1701 - output_5_loss: 0.0038 - output_1_accuracy: 0.6994 - output_2_accuracy: 0.5866 - output_3_accuracy: 0.7693 - output_4_accuracy: 0.9605 - output_5_accuracy: 0.9997 - val_loss: 4.0807 - val_output_1_loss: 1.4608 - val_output_2_loss: 1.7862 - val_output_3_loss: 0.7473 - val_output_4_loss: 0.0838 - val_output_5_loss: 0.0026 - val_output_1_accuracy: 0.5243 - val_output_2_accuracy: 0.4147 - val_output_3_accuracy: 0.8313 - val_output_4_accuracy: 0.9884 - val_output_5_accuracy: 0.9998\n",
      "Epoch 7/20\n",
      "131/131 [==============================] - 239s 2s/step - loss: 2.8944 - output_1_loss: 0.8545 - output_2_loss: 1.1649 - output_3_loss: 0.7130 - output_4_loss: 0.1583 - output_5_loss: 0.0036 - output_1_accuracy: 0.7226 - output_2_accuracy: 0.6160 - output_3_accuracy: 0.7821 - output_4_accuracy: 0.9627 - output_5_accuracy: 0.9997 - val_loss: 3.9733 - val_output_1_loss: 1.3730 - val_output_2_loss: 1.7283 - val_output_3_loss: 0.7593 - val_output_4_loss: 0.1096 - val_output_5_loss: 0.0030 - val_output_1_accuracy: 0.5559 - val_output_2_accuracy: 0.4299 - val_output_3_accuracy: 0.8277 - val_output_4_accuracy: 0.9867 - val_output_5_accuracy: 0.9998\n",
      "Epoch 8/20\n",
      "131/131 [==============================] - 235s 2s/step - loss: 2.7531 - output_1_loss: 0.8107 - output_2_loss: 1.1022 - output_3_loss: 0.6832 - output_4_loss: 0.1534 - output_5_loss: 0.0037 - output_1_accuracy: 0.7359 - output_2_accuracy: 0.6354 - output_3_accuracy: 0.7924 - output_4_accuracy: 0.9639 - output_5_accuracy: 0.9997 - val_loss: 3.8424 - val_output_1_loss: 1.3594 - val_output_2_loss: 1.7237 - val_output_3_loss: 0.6760 - val_output_4_loss: 0.0814 - val_output_5_loss: 0.0020 - val_output_1_accuracy: 0.5696 - val_output_2_accuracy: 0.4517 - val_output_3_accuracy: 0.8474 - val_output_4_accuracy: 0.9885 - val_output_5_accuracy: 0.9998\n",
      "Epoch 9/20\n",
      "131/131 [==============================] - 236s 2s/step - loss: 2.6075 - output_1_loss: 0.7668 - output_2_loss: 1.0453 - output_3_loss: 0.6484 - output_4_loss: 0.1438 - output_5_loss: 0.0032 - output_1_accuracy: 0.7501 - output_2_accuracy: 0.6567 - output_3_accuracy: 0.7998 - output_4_accuracy: 0.9649 - output_5_accuracy: 0.9997 - val_loss: 3.8430 - val_output_1_loss: 1.3612 - val_output_2_loss: 1.6981 - val_output_3_loss: 0.6953 - val_output_4_loss: 0.0868 - val_output_5_loss: 0.0017 - val_output_1_accuracy: 0.5678 - val_output_2_accuracy: 0.4684 - val_output_3_accuracy: 0.8402 - val_output_4_accuracy: 0.9871 - val_output_5_accuracy: 0.9998\n",
      "Epoch 10/20\n",
      "131/131 [==============================] - 268s 2s/step - loss: 2.4956 - output_1_loss: 0.7322 - output_2_loss: 0.9969 - output_3_loss: 0.6277 - output_4_loss: 0.1358 - output_5_loss: 0.0029 - output_1_accuracy: 0.7606 - output_2_accuracy: 0.6715 - output_3_accuracy: 0.8060 - output_4_accuracy: 0.9667 - output_5_accuracy: 0.9997 - val_loss: 3.9235 - val_output_1_loss: 1.3059 - val_output_2_loss: 1.6445 - val_output_3_loss: 0.8506 - val_output_4_loss: 0.1188 - val_output_5_loss: 0.0037 - val_output_1_accuracy: 0.5826 - val_output_2_accuracy: 0.4653 - val_output_3_accuracy: 0.7930 - val_output_4_accuracy: 0.9847 - val_output_5_accuracy: 0.9998\n",
      "Epoch 11/20\n",
      "131/131 [==============================] - 229s 2s/step - loss: 2.4012 - output_1_loss: 0.7064 - output_2_loss: 0.9572 - output_3_loss: 0.6026 - output_4_loss: 0.1321 - output_5_loss: 0.0029 - output_1_accuracy: 0.7720 - output_2_accuracy: 0.6847 - output_3_accuracy: 0.8120 - output_4_accuracy: 0.9674 - output_5_accuracy: 0.9997 - val_loss: 3.7430 - val_output_1_loss: 1.2902 - val_output_2_loss: 1.6072 - val_output_3_loss: 0.7452 - val_output_4_loss: 0.0975 - val_output_5_loss: 0.0029 - val_output_1_accuracy: 0.5849 - val_output_2_accuracy: 0.4771 - val_output_3_accuracy: 0.8290 - val_output_4_accuracy: 0.9876 - val_output_5_accuracy: 0.9998\n",
      "Epoch 12/20\n",
      "131/131 [==============================] - 226s 2s/step - loss: 2.3209 - output_1_loss: 0.6835 - output_2_loss: 0.9253 - output_3_loss: 0.5825 - output_4_loss: 0.1271 - output_5_loss: 0.0025 - output_1_accuracy: 0.7773 - output_2_accuracy: 0.6936 - output_3_accuracy: 0.8183 - output_4_accuracy: 0.9692 - output_5_accuracy: 0.9997 - val_loss: 3.6838 - val_output_1_loss: 1.3189 - val_output_2_loss: 1.6076 - val_output_3_loss: 0.6766 - val_output_4_loss: 0.0791 - val_output_5_loss: 0.0016 - val_output_1_accuracy: 0.5814 - val_output_2_accuracy: 0.4849 - val_output_3_accuracy: 0.8395 - val_output_4_accuracy: 0.9873 - val_output_5_accuracy: 0.9998\n",
      "Epoch 13/20\n",
      "131/131 [==============================] - 231s 2s/step - loss: 2.2311 - output_1_loss: 0.6571 - output_2_loss: 0.8919 - output_3_loss: 0.5597 - output_4_loss: 0.1201 - output_5_loss: 0.0023 - output_1_accuracy: 0.7866 - output_2_accuracy: 0.7059 - output_3_accuracy: 0.8271 - output_4_accuracy: 0.9697 - output_5_accuracy: 0.9997 - val_loss: 3.6840 - val_output_1_loss: 1.3140 - val_output_2_loss: 1.6057 - val_output_3_loss: 0.6731 - val_output_4_loss: 0.0890 - val_output_5_loss: 0.0022 - val_output_1_accuracy: 0.5797 - val_output_2_accuracy: 0.4920 - val_output_3_accuracy: 0.8429 - val_output_4_accuracy: 0.9873 - val_output_5_accuracy: 0.9998\n",
      "Epoch 14/20\n",
      "131/131 [==============================] - 230s 2s/step - loss: 2.1816 - output_1_loss: 0.6446 - output_2_loss: 0.8705 - output_3_loss: 0.5507 - output_4_loss: 0.1138 - output_5_loss: 0.0021 - output_1_accuracy: 0.7894 - output_2_accuracy: 0.7096 - output_3_accuracy: 0.8267 - output_4_accuracy: 0.9703 - output_5_accuracy: 0.9997 - val_loss: 3.6730 - val_output_1_loss: 1.3063 - val_output_2_loss: 1.5946 - val_output_3_loss: 0.6854 - val_output_4_loss: 0.0848 - val_output_5_loss: 0.0018 - val_output_1_accuracy: 0.5830 - val_output_2_accuracy: 0.4947 - val_output_3_accuracy: 0.8391 - val_output_4_accuracy: 0.9869 - val_output_5_accuracy: 0.9998\n",
      "Epoch 15/20\n",
      "131/131 [==============================] - 244s 2s/step - loss: 2.1082 - output_1_loss: 0.6214 - output_2_loss: 0.8422 - output_3_loss: 0.5321 - output_4_loss: 0.1106 - output_5_loss: 0.0019 - output_1_accuracy: 0.7970 - output_2_accuracy: 0.7218 - output_3_accuracy: 0.8333 - output_4_accuracy: 0.9712 - output_5_accuracy: 0.9997 - val_loss: 3.7312 - val_output_1_loss: 1.2908 - val_output_2_loss: 1.6103 - val_output_3_loss: 0.7354 - val_output_4_loss: 0.0923 - val_output_5_loss: 0.0024 - val_output_1_accuracy: 0.5973 - val_output_2_accuracy: 0.4960 - val_output_3_accuracy: 0.8183 - val_output_4_accuracy: 0.9858 - val_output_5_accuracy: 0.9998\n",
      "Epoch 16/20\n",
      "131/131 [==============================] - 251s 2s/step - loss: 2.0347 - output_1_loss: 0.5951 - output_2_loss: 0.8166 - output_3_loss: 0.5128 - output_4_loss: 0.1087 - output_5_loss: 0.0016 - output_1_accuracy: 0.8053 - output_2_accuracy: 0.7275 - output_3_accuracy: 0.8371 - output_4_accuracy: 0.9720 - output_5_accuracy: 0.9997 - val_loss: 3.7196 - val_output_1_loss: 1.2940 - val_output_2_loss: 1.5983 - val_output_3_loss: 0.7293 - val_output_4_loss: 0.0954 - val_output_5_loss: 0.0025 - val_output_1_accuracy: 0.5968 - val_output_2_accuracy: 0.5019 - val_output_3_accuracy: 0.8137 - val_output_4_accuracy: 0.9844 - val_output_5_accuracy: 0.9998\n",
      "Epoch 17/20\n",
      "131/131 [==============================] - 271s 2s/step - loss: 1.9707 - output_1_loss: 0.5777 - output_2_loss: 0.7905 - output_3_loss: 0.4966 - output_4_loss: 0.1044 - output_5_loss: 0.0016 - output_1_accuracy: 0.8093 - output_2_accuracy: 0.7374 - output_3_accuracy: 0.8415 - output_4_accuracy: 0.9718 - output_5_accuracy: 0.9997 - val_loss: 3.6704 - val_output_1_loss: 1.2864 - val_output_2_loss: 1.5861 - val_output_3_loss: 0.7171 - val_output_4_loss: 0.0790 - val_output_5_loss: 0.0019 - val_output_1_accuracy: 0.6030 - val_output_2_accuracy: 0.5061 - val_output_3_accuracy: 0.8248 - val_output_4_accuracy: 0.9871 - val_output_5_accuracy: 0.9998\n",
      "Epoch 18/20\n",
      "131/131 [==============================] - 238s 2s/step - loss: 1.9091 - output_1_loss: 0.5638 - output_2_loss: 0.7638 - output_3_loss: 0.4818 - output_4_loss: 0.0981 - output_5_loss: 0.0015 - output_1_accuracy: 0.8132 - output_2_accuracy: 0.7449 - output_3_accuracy: 0.8470 - output_4_accuracy: 0.9737 - output_5_accuracy: 0.9998 - val_loss: 3.6343 - val_output_1_loss: 1.2802 - val_output_2_loss: 1.6023 - val_output_3_loss: 0.6735 - val_output_4_loss: 0.0764 - val_output_5_loss: 0.0018 - val_output_1_accuracy: 0.6043 - val_output_2_accuracy: 0.5005 - val_output_3_accuracy: 0.8371 - val_output_4_accuracy: 0.9883 - val_output_5_accuracy: 0.9998\n",
      "Epoch 19/20\n",
      "131/131 [==============================] - 262s 2s/step - loss: 1.8518 - output_1_loss: 0.5470 - output_2_loss: 0.7399 - output_3_loss: 0.4698 - output_4_loss: 0.0935 - output_5_loss: 0.0015 - output_1_accuracy: 0.8196 - output_2_accuracy: 0.7497 - output_3_accuracy: 0.8487 - output_4_accuracy: 0.9745 - output_5_accuracy: 0.9997 - val_loss: 3.7624 - val_output_1_loss: 1.2738 - val_output_2_loss: 1.5751 - val_output_3_loss: 0.8164 - val_output_4_loss: 0.0949 - val_output_5_loss: 0.0024 - val_output_1_accuracy: 0.6021 - val_output_2_accuracy: 0.5009 - val_output_3_accuracy: 0.7817 - val_output_4_accuracy: 0.9873 - val_output_5_accuracy: 0.9998\n",
      "Epoch 20/20\n",
      "131/131 [==============================] - 313s 2s/step - loss: 1.7840 - output_1_loss: 0.5204 - output_2_loss: 0.7157 - output_3_loss: 0.4569 - output_4_loss: 0.0899 - output_5_loss: 0.0011 - output_1_accuracy: 0.8271 - output_2_accuracy: 0.7590 - output_3_accuracy: 0.8529 - output_4_accuracy: 0.9752 - output_5_accuracy: 0.9997 - val_loss: 3.5997 - val_output_1_loss: 1.2808 - val_output_2_loss: 1.5926 - val_output_3_loss: 0.6498 - val_output_4_loss: 0.0745 - val_output_5_loss: 0.0021 - val_output_1_accuracy: 0.6050 - val_output_2_accuracy: 0.5070 - val_output_3_accuracy: 0.8394 - val_output_4_accuracy: 0.9883 - val_output_5_accuracy: 0.9998\n"
     ]
    }
   ],
   "source": [
    "from trainer import Trainer\n",
    "\n",
    "BATCH_SIZE = 256\n",
    "TRAIN_DATA_PATH = '/Users/mukund/Documents/svhm/data/train/digitStruct.mat'\n",
    "TEST_DATA_PATH = '/Users/mukund/Documents/svhm/data/test/digitStruct.mat'\n",
    "IMG_SIZE = (64,64)\n",
    "\n",
    "\n",
    "trainer = Trainer(TRAIN_DATA_PATH, TEST_DATA_PATH, BATCH_SIZE, IMG_SIZE)\n",
    "trainer.create_datasets()\n",
    "trainer.build_model(kernel_size=3, nb_filter=16, pool_size=(2,2), activation='softmax', format='classification')\n",
    "trainer.train(format='classification', epochs=20)"
   ]
  },
  {
   "cell_type": "code",
   "execution_count": 3,
   "metadata": {},
   "outputs": [
    {
     "name": "stderr",
     "output_type": "stream",
     "text": [
      "2022-06-10 15:43:46.245416: W tensorflow/python/util/util.cc:348] Sets are not currently considered sequences, but this may change in the future, so consider avoiding using them.\n",
      "WARNING:absl:Found untraced functions such as conv2d_6_layer_call_fn, conv2d_6_layer_call_and_return_conditional_losses, leaky_re_lu_6_layer_call_fn, leaky_re_lu_6_layer_call_and_return_conditional_losses, conv2d_7_layer_call_fn while saving (showing 5 of 120). These functions will not be directly callable after loading.\n"
     ]
    },
    {
     "name": "stdout",
     "output_type": "stream",
     "text": [
      "INFO:tensorflow:Assets written to: /Users/mukund/Documents/svhm/assets\n"
     ]
    },
    {
     "name": "stderr",
     "output_type": "stream",
     "text": [
      "INFO:tensorflow:Assets written to: /Users/mukund/Documents/svhm/assets\n"
     ]
    }
   ],
   "source": [
    "trainer.save_model(\"/Users/mukund/Documents/svhm\")"
   ]
  },
  {
   "cell_type": "code",
   "execution_count": 1,
   "metadata": {},
   "outputs": [
    {
     "name": "stderr",
     "output_type": "stream",
     "text": [
      "2022-06-10 17:05:58.489508: I tensorflow/core/platform/cpu_feature_guard.cc:142] This TensorFlow binary is optimized with oneAPI Deep Neural Network Library (oneDNN) to use the following CPU instructions in performance-critical operations:  AVX2 FMA\n",
      "To enable them in other operations, rebuild TensorFlow with the appropriate compiler flags.\n",
      "2022-06-10 17:05:59.691931: I tensorflow/compiler/mlir/mlir_graph_optimization_pass.cc:176] None of the MLIR Optimization Passes are enabled (registered 2)\n"
     ]
    },
    {
     "name": "stdout",
     "output_type": "stream",
     "text": [
      "Epoch 1/30\n",
      "261/261 [==============================] - 592s 2s/step - loss: 5.9405 - output_1_loss: 2.0339 - output_2_loss: 2.3319 - output_3_loss: 1.2478 - output_4_loss: 0.2869 - output_5_loss: 0.0400 - output_1_accuracy: 0.2809 - output_2_accuracy: 0.1783 - output_3_accuracy: 0.6910 - output_4_accuracy: 0.9530 - output_5_accuracy: 0.9958 - val_loss: 5.1132 - val_output_1_loss: 1.9065 - val_output_2_loss: 2.2165 - val_output_3_loss: 0.8834 - val_output_4_loss: 0.1024 - val_output_5_loss: 0.0044 - val_output_1_accuracy: 0.3444 - val_output_2_accuracy: 0.2404 - val_output_3_accuracy: 0.8279 - val_output_4_accuracy: 0.9887 - val_output_5_accuracy: 0.9998\n",
      "Epoch 2/30\n",
      "261/261 [==============================] - 644s 2s/step - loss: 4.5242 - output_1_loss: 1.4484 - output_2_loss: 1.8024 - output_3_loss: 1.0366 - output_4_loss: 0.2319 - output_5_loss: 0.0048 - output_1_accuracy: 0.5150 - output_2_accuracy: 0.3917 - output_3_accuracy: 0.7060 - output_4_accuracy: 0.9569 - output_5_accuracy: 0.9997 - val_loss: 4.3613 - val_output_1_loss: 1.5243 - val_output_2_loss: 1.8575 - val_output_3_loss: 0.8581 - val_output_4_loss: 0.1181 - val_output_5_loss: 0.0033 - val_output_1_accuracy: 0.4927 - val_output_2_accuracy: 0.3879 - val_output_3_accuracy: 0.8318 - val_output_4_accuracy: 0.9887 - val_output_5_accuracy: 0.9998\n",
      "Epoch 3/30\n",
      "261/261 [==============================] - 654s 2s/step - loss: 3.6166 - output_1_loss: 1.0841 - output_2_loss: 1.4163 - output_3_loss: 0.8987 - output_4_loss: 0.2135 - output_5_loss: 0.0041 - output_1_accuracy: 0.6487 - output_2_accuracy: 0.5375 - output_3_accuracy: 0.7359 - output_4_accuracy: 0.9569 - output_5_accuracy: 0.9997 - val_loss: 4.1585 - val_output_1_loss: 1.4349 - val_output_2_loss: 1.7528 - val_output_3_loss: 0.8384 - val_output_4_loss: 0.1289 - val_output_5_loss: 0.0035 - val_output_1_accuracy: 0.5350 - val_output_2_accuracy: 0.4209 - val_output_3_accuracy: 0.8278 - val_output_4_accuracy: 0.9883 - val_output_5_accuracy: 0.9998\n",
      "Epoch 4/30\n",
      "261/261 [==============================] - 678s 3s/step - loss: 3.2223 - output_1_loss: 0.9580 - output_2_loss: 1.2484 - output_3_loss: 0.8119 - output_4_loss: 0.1995 - output_5_loss: 0.0045 - output_1_accuracy: 0.6933 - output_2_accuracy: 0.5989 - output_3_accuracy: 0.7593 - output_4_accuracy: 0.9575 - output_5_accuracy: 0.9997 - val_loss: 3.9668 - val_output_1_loss: 1.3780 - val_output_2_loss: 1.6743 - val_output_3_loss: 0.8022 - val_output_4_loss: 0.1087 - val_output_5_loss: 0.0036 - val_output_1_accuracy: 0.5466 - val_output_2_accuracy: 0.4461 - val_output_3_accuracy: 0.8435 - val_output_4_accuracy: 0.9887 - val_output_5_accuracy: 0.9998\n",
      "Epoch 5/30\n",
      "261/261 [==============================] - 548s 2s/step - loss: 2.9925 - output_1_loss: 0.8815 - output_2_loss: 1.1601 - output_3_loss: 0.7575 - output_4_loss: 0.1895 - output_5_loss: 0.0039 - output_1_accuracy: 0.7175 - output_2_accuracy: 0.6295 - output_3_accuracy: 0.7752 - output_4_accuracy: 0.9583 - output_5_accuracy: 0.9997 - val_loss: 3.8554 - val_output_1_loss: 1.3872 - val_output_2_loss: 1.6526 - val_output_3_loss: 0.7186 - val_output_4_loss: 0.0945 - val_output_5_loss: 0.0025 - val_output_1_accuracy: 0.5654 - val_output_2_accuracy: 0.4734 - val_output_3_accuracy: 0.8481 - val_output_4_accuracy: 0.9885 - val_output_5_accuracy: 0.9998\n",
      "Epoch 6/30\n",
      "261/261 [==============================] - 536s 2s/step - loss: 2.8217 - output_1_loss: 0.8335 - output_2_loss: 1.0883 - output_3_loss: 0.7202 - output_4_loss: 0.1764 - output_5_loss: 0.0034 - output_1_accuracy: 0.7358 - output_2_accuracy: 0.6519 - output_3_accuracy: 0.7859 - output_4_accuracy: 0.9588 - output_5_accuracy: 0.9997 - val_loss: 3.7773 - val_output_1_loss: 1.3171 - val_output_2_loss: 1.5863 - val_output_3_loss: 0.7454 - val_output_4_loss: 0.1252 - val_output_5_loss: 0.0034 - val_output_1_accuracy: 0.5724 - val_output_2_accuracy: 0.4741 - val_output_3_accuracy: 0.8507 - val_output_4_accuracy: 0.9876 - val_output_5_accuracy: 0.9998\n",
      "Epoch 7/30\n",
      "261/261 [==============================] - 564s 2s/step - loss: 2.6877 - output_1_loss: 0.7993 - output_2_loss: 1.0269 - output_3_loss: 0.6808 - output_4_loss: 0.1774 - output_5_loss: 0.0033 - output_1_accuracy: 0.7456 - output_2_accuracy: 0.6701 - output_3_accuracy: 0.7938 - output_4_accuracy: 0.9594 - output_5_accuracy: 0.9997 - val_loss: 3.7431 - val_output_1_loss: 1.3201 - val_output_2_loss: 1.6672 - val_output_3_loss: 0.6720 - val_output_4_loss: 0.0819 - val_output_5_loss: 0.0019 - val_output_1_accuracy: 0.5799 - val_output_2_accuracy: 0.4868 - val_output_3_accuracy: 0.8588 - val_output_4_accuracy: 0.9888 - val_output_5_accuracy: 0.9998\n",
      "Epoch 8/30\n",
      "261/261 [==============================] - 571s 2s/step - loss: 2.5992 - output_1_loss: 0.7628 - output_2_loss: 1.0051 - output_3_loss: 0.6574 - output_4_loss: 0.1708 - output_5_loss: 0.0032 - output_1_accuracy: 0.7562 - output_2_accuracy: 0.6780 - output_3_accuracy: 0.8029 - output_4_accuracy: 0.9599 - output_5_accuracy: 0.9997 - val_loss: 3.6711 - val_output_1_loss: 1.3331 - val_output_2_loss: 1.5396 - val_output_3_loss: 0.6949 - val_output_4_loss: 0.1005 - val_output_5_loss: 0.0031 - val_output_1_accuracy: 0.5826 - val_output_2_accuracy: 0.5043 - val_output_3_accuracy: 0.8609 - val_output_4_accuracy: 0.9886 - val_output_5_accuracy: 0.9998\n",
      "Epoch 9/30\n",
      "261/261 [==============================] - 580s 2s/step - loss: 2.5069 - output_1_loss: 0.7355 - output_2_loss: 0.9635 - output_3_loss: 0.6378 - output_4_loss: 0.1668 - output_5_loss: 0.0032 - output_1_accuracy: 0.7684 - output_2_accuracy: 0.6918 - output_3_accuracy: 0.8081 - output_4_accuracy: 0.9605 - output_5_accuracy: 0.9997 - val_loss: 3.5418 - val_output_1_loss: 1.2471 - val_output_2_loss: 1.5192 - val_output_3_loss: 0.6877 - val_output_4_loss: 0.0858 - val_output_5_loss: 0.0019 - val_output_1_accuracy: 0.5954 - val_output_2_accuracy: 0.4953 - val_output_3_accuracy: 0.8678 - val_output_4_accuracy: 0.9885 - val_output_5_accuracy: 0.9998\n",
      "Epoch 10/30\n",
      "261/261 [==============================] - 631s 2s/step - loss: 2.4324 - output_1_loss: 0.7162 - output_2_loss: 0.9332 - output_3_loss: 0.6201 - output_4_loss: 0.1604 - output_5_loss: 0.0025 - output_1_accuracy: 0.7731 - output_2_accuracy: 0.7021 - output_3_accuracy: 0.8125 - output_4_accuracy: 0.9604 - output_5_accuracy: 0.9997 - val_loss: 3.5716 - val_output_1_loss: 1.2397 - val_output_2_loss: 1.5289 - val_output_3_loss: 0.7207 - val_output_4_loss: 0.0808 - val_output_5_loss: 0.0016 - val_output_1_accuracy: 0.6023 - val_output_2_accuracy: 0.5109 - val_output_3_accuracy: 0.8664 - val_output_4_accuracy: 0.9888 - val_output_5_accuracy: 0.9998\n",
      "Epoch 11/30\n",
      "261/261 [==============================] - 642s 2s/step - loss: 2.3755 - output_1_loss: 0.6978 - output_2_loss: 0.9150 - output_3_loss: 0.5993 - output_4_loss: 0.1608 - output_5_loss: 0.0026 - output_1_accuracy: 0.7776 - output_2_accuracy: 0.7082 - output_3_accuracy: 0.8185 - output_4_accuracy: 0.9606 - output_5_accuracy: 0.9997 - val_loss: 3.6524 - val_output_1_loss: 1.2726 - val_output_2_loss: 1.5427 - val_output_3_loss: 0.7319 - val_output_4_loss: 0.1030 - val_output_5_loss: 0.0022 - val_output_1_accuracy: 0.5960 - val_output_2_accuracy: 0.5022 - val_output_3_accuracy: 0.8443 - val_output_4_accuracy: 0.9884 - val_output_5_accuracy: 0.9998\n",
      "Epoch 12/30\n",
      "261/261 [==============================] - 533s 2s/step - loss: 2.3198 - output_1_loss: 0.6766 - output_2_loss: 0.8949 - output_3_loss: 0.5891 - output_4_loss: 0.1565 - output_5_loss: 0.0027 - output_1_accuracy: 0.7838 - output_2_accuracy: 0.7159 - output_3_accuracy: 0.8213 - output_4_accuracy: 0.9624 - output_5_accuracy: 0.9997 - val_loss: 3.6310 - val_output_1_loss: 1.3212 - val_output_2_loss: 1.5660 - val_output_3_loss: 0.6482 - val_output_4_loss: 0.0935 - val_output_5_loss: 0.0021 - val_output_1_accuracy: 0.5931 - val_output_2_accuracy: 0.5097 - val_output_3_accuracy: 0.8640 - val_output_4_accuracy: 0.9885 - val_output_5_accuracy: 0.9998\n",
      "Epoch 13/30\n",
      "261/261 [==============================] - 423s 2s/step - loss: 2.2525 - output_1_loss: 0.6625 - output_2_loss: 0.8611 - output_3_loss: 0.5743 - output_4_loss: 0.1522 - output_5_loss: 0.0025 - output_1_accuracy: 0.7900 - output_2_accuracy: 0.7235 - output_3_accuracy: 0.8266 - output_4_accuracy: 0.9622 - output_5_accuracy: 0.9997 - val_loss: 3.5707 - val_output_1_loss: 1.2606 - val_output_2_loss: 1.5035 - val_output_3_loss: 0.6938 - val_output_4_loss: 0.1098 - val_output_5_loss: 0.0031 - val_output_1_accuracy: 0.6003 - val_output_2_accuracy: 0.5187 - val_output_3_accuracy: 0.8518 - val_output_4_accuracy: 0.9871 - val_output_5_accuracy: 0.9998\n",
      "Epoch 14/30\n",
      "261/261 [==============================] - 435s 2s/step - loss: 2.2416 - output_1_loss: 0.6605 - output_2_loss: 0.8563 - output_3_loss: 0.5720 - output_4_loss: 0.1504 - output_5_loss: 0.0023 - output_1_accuracy: 0.7876 - output_2_accuracy: 0.7263 - output_3_accuracy: 0.8248 - output_4_accuracy: 0.9632 - output_5_accuracy: 0.9997 - val_loss: 3.4936 - val_output_1_loss: 1.2285 - val_output_2_loss: 1.4795 - val_output_3_loss: 0.6916 - val_output_4_loss: 0.0915 - val_output_5_loss: 0.0024 - val_output_1_accuracy: 0.6116 - val_output_2_accuracy: 0.5247 - val_output_3_accuracy: 0.8584 - val_output_4_accuracy: 0.9882 - val_output_5_accuracy: 0.9997\n",
      "Epoch 15/30\n",
      "261/261 [==============================] - 435s 2s/step - loss: 2.1760 - output_1_loss: 0.6381 - output_2_loss: 0.8353 - output_3_loss: 0.5544 - output_4_loss: 0.1461 - output_5_loss: 0.0021 - output_1_accuracy: 0.7980 - output_2_accuracy: 0.7321 - output_3_accuracy: 0.8296 - output_4_accuracy: 0.9634 - output_5_accuracy: 0.9997 - val_loss: 3.5810 - val_output_1_loss: 1.2771 - val_output_2_loss: 1.5028 - val_output_3_loss: 0.6963 - val_output_4_loss: 0.1023 - val_output_5_loss: 0.0026 - val_output_1_accuracy: 0.6045 - val_output_2_accuracy: 0.5243 - val_output_3_accuracy: 0.8637 - val_output_4_accuracy: 0.9890 - val_output_5_accuracy: 0.9998\n",
      "Epoch 16/30\n",
      "261/261 [==============================] - 467s 2s/step - loss: 2.1404 - output_1_loss: 0.6293 - output_2_loss: 0.8210 - output_3_loss: 0.5437 - output_4_loss: 0.1434 - output_5_loss: 0.0030 - output_1_accuracy: 0.7975 - output_2_accuracy: 0.7348 - output_3_accuracy: 0.8345 - output_4_accuracy: 0.9649 - output_5_accuracy: 0.9997 - val_loss: 3.5730 - val_output_1_loss: 1.2780 - val_output_2_loss: 1.5300 - val_output_3_loss: 0.6687 - val_output_4_loss: 0.0941 - val_output_5_loss: 0.0022 - val_output_1_accuracy: 0.6012 - val_output_2_accuracy: 0.5174 - val_output_3_accuracy: 0.8589 - val_output_4_accuracy: 0.9882 - val_output_5_accuracy: 0.9998\n",
      "Epoch 17/30\n",
      "261/261 [==============================] - 480s 2s/step - loss: 2.1024 - output_1_loss: 0.6167 - output_2_loss: 0.8045 - output_3_loss: 0.5372 - output_4_loss: 0.1411 - output_5_loss: 0.0029 - output_1_accuracy: 0.8039 - output_2_accuracy: 0.7426 - output_3_accuracy: 0.8365 - output_4_accuracy: 0.9645 - output_5_accuracy: 0.9996 - val_loss: 3.4548 - val_output_1_loss: 1.2300 - val_output_2_loss: 1.4962 - val_output_3_loss: 0.6355 - val_output_4_loss: 0.0911 - val_output_5_loss: 0.0020 - val_output_1_accuracy: 0.6096 - val_output_2_accuracy: 0.5311 - val_output_3_accuracy: 0.8682 - val_output_4_accuracy: 0.9883 - val_output_5_accuracy: 0.9998\n",
      "Epoch 18/30\n",
      "261/261 [==============================] - 434s 2s/step - loss: 2.0873 - output_1_loss: 0.6135 - output_2_loss: 0.7972 - output_3_loss: 0.5306 - output_4_loss: 0.1442 - output_5_loss: 0.0018 - output_1_accuracy: 0.8040 - output_2_accuracy: 0.7416 - output_3_accuracy: 0.8391 - output_4_accuracy: 0.9642 - output_5_accuracy: 0.9997 - val_loss: 3.4685 - val_output_1_loss: 1.2230 - val_output_2_loss: 1.4898 - val_output_3_loss: 0.6702 - val_output_4_loss: 0.0835 - val_output_5_loss: 0.0021 - val_output_1_accuracy: 0.6172 - val_output_2_accuracy: 0.5290 - val_output_3_accuracy: 0.8603 - val_output_4_accuracy: 0.9884 - val_output_5_accuracy: 0.9998\n",
      "Epoch 19/30\n",
      "261/261 [==============================] - 432s 2s/step - loss: 2.0677 - output_1_loss: 0.6076 - output_2_loss: 0.7960 - output_3_loss: 0.5237 - output_4_loss: 0.1385 - output_5_loss: 0.0019 - output_1_accuracy: 0.8069 - output_2_accuracy: 0.7430 - output_3_accuracy: 0.8382 - output_4_accuracy: 0.9649 - output_5_accuracy: 0.9996 - val_loss: 3.5249 - val_output_1_loss: 1.2364 - val_output_2_loss: 1.4783 - val_output_3_loss: 0.7104 - val_output_4_loss: 0.0975 - val_output_5_loss: 0.0023 - val_output_1_accuracy: 0.6132 - val_output_2_accuracy: 0.5266 - val_output_3_accuracy: 0.8538 - val_output_4_accuracy: 0.9880 - val_output_5_accuracy: 0.9998\n",
      "Epoch 20/30\n",
      "261/261 [==============================] - 431s 2s/step - loss: 2.0125 - output_1_loss: 0.5928 - output_2_loss: 0.7721 - output_3_loss: 0.5070 - output_4_loss: 0.1384 - output_5_loss: 0.0022 - output_1_accuracy: 0.8087 - output_2_accuracy: 0.7506 - output_3_accuracy: 0.8441 - output_4_accuracy: 0.9652 - output_5_accuracy: 0.9996 - val_loss: 3.4953 - val_output_1_loss: 1.2416 - val_output_2_loss: 1.5006 - val_output_3_loss: 0.6597 - val_output_4_loss: 0.0911 - val_output_5_loss: 0.0023 - val_output_1_accuracy: 0.6077 - val_output_2_accuracy: 0.5247 - val_output_3_accuracy: 0.8657 - val_output_4_accuracy: 0.9880 - val_output_5_accuracy: 0.9998\n",
      "Epoch 21/30\n",
      "261/261 [==============================] - 430s 2s/step - loss: 1.9746 - output_1_loss: 0.5801 - output_2_loss: 0.7605 - output_3_loss: 0.5019 - output_4_loss: 0.1298 - output_5_loss: 0.0022 - output_1_accuracy: 0.8152 - output_2_accuracy: 0.7549 - output_3_accuracy: 0.8451 - output_4_accuracy: 0.9671 - output_5_accuracy: 0.9997 - val_loss: 3.4944 - val_output_1_loss: 1.2579 - val_output_2_loss: 1.4929 - val_output_3_loss: 0.6494 - val_output_4_loss: 0.0921 - val_output_5_loss: 0.0021 - val_output_1_accuracy: 0.6107 - val_output_2_accuracy: 0.5288 - val_output_3_accuracy: 0.8661 - val_output_4_accuracy: 0.9885 - val_output_5_accuracy: 0.9998\n",
      "Epoch 22/30\n",
      "261/261 [==============================] - 430s 2s/step - loss: 1.9509 - output_1_loss: 0.5716 - output_2_loss: 0.7564 - output_3_loss: 0.4883 - output_4_loss: 0.1320 - output_5_loss: 0.0027 - output_1_accuracy: 0.8167 - output_2_accuracy: 0.7573 - output_3_accuracy: 0.8496 - output_4_accuracy: 0.9673 - output_5_accuracy: 0.9997 - val_loss: 3.4240 - val_output_1_loss: 1.1909 - val_output_2_loss: 1.4612 - val_output_3_loss: 0.6775 - val_output_4_loss: 0.0925 - val_output_5_loss: 0.0019 - val_output_1_accuracy: 0.6225 - val_output_2_accuracy: 0.5281 - val_output_3_accuracy: 0.8677 - val_output_4_accuracy: 0.9885 - val_output_5_accuracy: 0.9998\n",
      "Epoch 23/30\n",
      "261/261 [==============================] - 448s 2s/step - loss: 1.9326 - output_1_loss: 0.5665 - output_2_loss: 0.7426 - output_3_loss: 0.4907 - output_4_loss: 0.1307 - output_5_loss: 0.0021 - output_1_accuracy: 0.8191 - output_2_accuracy: 0.7605 - output_3_accuracy: 0.8486 - output_4_accuracy: 0.9663 - output_5_accuracy: 0.9997 - val_loss: 3.4604 - val_output_1_loss: 1.2282 - val_output_2_loss: 1.4603 - val_output_3_loss: 0.6733 - val_output_4_loss: 0.0962 - val_output_5_loss: 0.0024 - val_output_1_accuracy: 0.6107 - val_output_2_accuracy: 0.5371 - val_output_3_accuracy: 0.8644 - val_output_4_accuracy: 0.9884 - val_output_5_accuracy: 0.9998\n",
      "Epoch 24/30\n",
      "261/261 [==============================] - 430s 2s/step - loss: 1.8934 - output_1_loss: 0.5583 - output_2_loss: 0.7302 - output_3_loss: 0.4757 - output_4_loss: 0.1266 - output_5_loss: 0.0026 - output_1_accuracy: 0.8204 - output_2_accuracy: 0.7663 - output_3_accuracy: 0.8518 - output_4_accuracy: 0.9673 - output_5_accuracy: 0.9996 - val_loss: 3.4697 - val_output_1_loss: 1.2368 - val_output_2_loss: 1.5013 - val_output_3_loss: 0.6366 - val_output_4_loss: 0.0933 - val_output_5_loss: 0.0016 - val_output_1_accuracy: 0.6087 - val_output_2_accuracy: 0.5332 - val_output_3_accuracy: 0.8682 - val_output_4_accuracy: 0.9883 - val_output_5_accuracy: 0.9998\n",
      "Epoch 25/30\n",
      "261/261 [==============================] - 435s 2s/step - loss: 1.8946 - output_1_loss: 0.5578 - output_2_loss: 0.7254 - output_3_loss: 0.4808 - output_4_loss: 0.1286 - output_5_loss: 0.0020 - output_1_accuracy: 0.8223 - output_2_accuracy: 0.7622 - output_3_accuracy: 0.8503 - output_4_accuracy: 0.9683 - output_5_accuracy: 0.9997 - val_loss: 3.4512 - val_output_1_loss: 1.2233 - val_output_2_loss: 1.4664 - val_output_3_loss: 0.6598 - val_output_4_loss: 0.0994 - val_output_5_loss: 0.0023 - val_output_1_accuracy: 0.6174 - val_output_2_accuracy: 0.5343 - val_output_3_accuracy: 0.8619 - val_output_4_accuracy: 0.9875 - val_output_5_accuracy: 0.9998\n",
      "Epoch 26/30\n",
      "261/261 [==============================] - 453s 2s/step - loss: 1.8650 - output_1_loss: 0.5424 - output_2_loss: 0.7175 - output_3_loss: 0.4761 - output_4_loss: 0.1269 - output_5_loss: 0.0021 - output_1_accuracy: 0.8260 - output_2_accuracy: 0.7648 - output_3_accuracy: 0.8526 - output_4_accuracy: 0.9680 - output_5_accuracy: 0.9996 - val_loss: 3.4980 - val_output_1_loss: 1.2506 - val_output_2_loss: 1.4995 - val_output_3_loss: 0.6575 - val_output_4_loss: 0.0887 - val_output_5_loss: 0.0018 - val_output_1_accuracy: 0.6160 - val_output_2_accuracy: 0.5282 - val_output_3_accuracy: 0.8645 - val_output_4_accuracy: 0.9884 - val_output_5_accuracy: 0.9998\n",
      "Epoch 27/30\n",
      "261/261 [==============================] - 435s 2s/step - loss: 1.8324 - output_1_loss: 0.5384 - output_2_loss: 0.7068 - output_3_loss: 0.4614 - output_4_loss: 0.1232 - output_5_loss: 0.0025 - output_1_accuracy: 0.8273 - output_2_accuracy: 0.7688 - output_3_accuracy: 0.8558 - output_4_accuracy: 0.9689 - output_5_accuracy: 0.9995 - val_loss: 3.6072 - val_output_1_loss: 1.2627 - val_output_2_loss: 1.5138 - val_output_3_loss: 0.7239 - val_output_4_loss: 0.1043 - val_output_5_loss: 0.0025 - val_output_1_accuracy: 0.6134 - val_output_2_accuracy: 0.5301 - val_output_3_accuracy: 0.8449 - val_output_4_accuracy: 0.9881 - val_output_5_accuracy: 0.9998\n",
      "Epoch 28/30\n",
      "261/261 [==============================] - 436s 2s/step - loss: 1.8385 - output_1_loss: 0.5396 - output_2_loss: 0.7074 - output_3_loss: 0.4614 - output_4_loss: 0.1274 - output_5_loss: 0.0026 - output_1_accuracy: 0.8275 - output_2_accuracy: 0.7712 - output_3_accuracy: 0.8560 - output_4_accuracy: 0.9674 - output_5_accuracy: 0.9996 - val_loss: 3.4897 - val_output_1_loss: 1.2202 - val_output_2_loss: 1.4871 - val_output_3_loss: 0.6844 - val_output_4_loss: 0.0952 - val_output_5_loss: 0.0026 - val_output_1_accuracy: 0.6194 - val_output_2_accuracy: 0.5324 - val_output_3_accuracy: 0.8592 - val_output_4_accuracy: 0.9879 - val_output_5_accuracy: 0.9998\n",
      "Epoch 29/30\n",
      "261/261 [==============================] - 439s 2s/step - loss: 1.7975 - output_1_loss: 0.5270 - output_2_loss: 0.6946 - output_3_loss: 0.4559 - output_4_loss: 0.1179 - output_5_loss: 0.0021 - output_1_accuracy: 0.8296 - output_2_accuracy: 0.7730 - output_3_accuracy: 0.8562 - output_4_accuracy: 0.9696 - output_5_accuracy: 0.9996 - val_loss: 3.4531 - val_output_1_loss: 1.1797 - val_output_2_loss: 1.4610 - val_output_3_loss: 0.6988 - val_output_4_loss: 0.1106 - val_output_5_loss: 0.0030 - val_output_1_accuracy: 0.6226 - val_output_2_accuracy: 0.5334 - val_output_3_accuracy: 0.8542 - val_output_4_accuracy: 0.9871 - val_output_5_accuracy: 0.9998\n",
      "Epoch 30/30\n",
      "261/261 [==============================] - 505s 2s/step - loss: 1.7876 - output_1_loss: 0.5260 - output_2_loss: 0.6853 - output_3_loss: 0.4522 - output_4_loss: 0.1219 - output_5_loss: 0.0021 - output_1_accuracy: 0.8296 - output_2_accuracy: 0.7776 - output_3_accuracy: 0.8600 - output_4_accuracy: 0.9684 - output_5_accuracy: 0.9996 - val_loss: 3.5111 - val_output_1_loss: 1.2193 - val_output_2_loss: 1.4982 - val_output_3_loss: 0.6996 - val_output_4_loss: 0.0923 - val_output_5_loss: 0.0017 - val_output_1_accuracy: 0.6128 - val_output_2_accuracy: 0.5233 - val_output_3_accuracy: 0.8617 - val_output_4_accuracy: 0.9891 - val_output_5_accuracy: 0.9998\n"
     ]
    }
   ],
   "source": [
    "from trainer import Trainer\n",
    "\n",
    "BATCH_SIZE = 128\n",
    "TRAIN_DATA_PATH = '/Users/mukund/Documents/svhm/data/train/digitStruct.mat'\n",
    "TEST_DATA_PATH = '/Users/mukund/Documents/svhm/data/test/digitStruct.mat'\n",
    "IMG_SIZE = (64,64)\n",
    "\n",
    "\n",
    "trainer = Trainer(TRAIN_DATA_PATH, TEST_DATA_PATH, BATCH_SIZE, IMG_SIZE)\n",
    "# trainer.create_datasets()\n",
    "trainer.build_model(kernel_size=5, nb_filter=32, pool_size=(2,2), activation='softmax', format='classification')\n",
    "trainer.train(format='classification', epochs=30)\n",
    "trainer.save_model(\"/Users/mukund/Documents/svhm\")"
   ]
  },
  {
   "cell_type": "code",
   "execution_count": 14,
   "metadata": {},
   "outputs": [
    {
     "name": "stdout",
     "output_type": "stream",
     "text": [
      "[1, 3, 6, 0, 0] [1, 3, 6, 0, 0]\n"
     ]
    },
    {
     "data": {
      "image/png": "[encoded data removed]",
      "text/plain": [
       "<Figure size 432x288 with 1 Axes>"
      ]
     },
     "metadata": {
      "needs_background": "light"
     },
     "output_type": "display_data"
    }
   ],
   "source": [
    "from inference import Inference\n",
    "%matplotlib inline\n",
    "\n",
    "import matplotlib.pyplot as plt\n",
    "\n",
    "\n",
    "TRAIN_DATA_PATH = '/Users/mukund/Documents/svhm/data/train/digitStruct.mat'\n",
    "TEST_DATA_PATH = '/Users/mukund/Documents/svhm/data/test/digitStruct.mat'\n",
    "IMG_SIZE = (64,64)\n",
    "\n",
    "\n",
    "inferer = Inference(TRAIN_DATA_PATH, TEST_DATA_PATH, 1, IMG_SIZE)\n",
    "dataset = inferer.get_dataset()\n",
    "inferer.load_model('/Users/mukund/Documents/svhm/saved models/model_2')\n",
    "for image, label in dataset:\n",
    "    pred, label, image = inferer.infer_on_sample(image, label)\n",
    "    print(pred, label)\n",
    "    plt.imshow(image[0], interpolation='nearest')\n",
    "    plt.show()\n",
    "    break\n",
    "\n",
    "# 10 represents digit 0 and 0 represents None element."
   ]
  },
  {
   "cell_type": "code",
   "execution_count": null,
   "metadata": {},
   "outputs": [],
   "source": []
  }
 ],
 "metadata": {
  "interpreter": {
   "hash": "ce45c92f8e5984a55c1146bbe2cc62929ee1f5b1309275831f81be16afc822fa"
  },
  "kernelspec": {
   "display_name": "Python 3.8.10 ('perceptilabs_3.8')",
   "language": "python",
   "name": "python3"
  },
  "language_info": {
   "codemirror_mode": {
    "name": "ipython",
    "version": 3
   },
   "file_extension": ".py",
   "mimetype": "text/x-python",
   "name": "python",
   "nbconvert_exporter": "python",
   "pygments_lexer": "ipython3",
   "version": "3.8.10"
  },
  "orig_nbformat": 4
 },
 "nbformat": 4,
 "nbformat_minor": 2
}
